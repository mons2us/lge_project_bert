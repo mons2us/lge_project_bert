{
 "cells": [
  {
   "cell_type": "code",
   "execution_count": null,
   "metadata": {},
   "outputs": [],
   "source": [
    "# shttps://happy-obok.tistory.com/5"
   ]
  },
  {
   "cell_type": "code",
   "execution_count": 1,
   "metadata": {},
   "outputs": [],
   "source": [
    "import pandas as pd\n",
    "import gluonnlp as nlp\n",
    "import numpy as np\n",
    "from tqdm.notebook import tqdm"
   ]
  },
  {
   "cell_type": "code",
   "execution_count": 5,
   "metadata": {},
   "outputs": [],
   "source": [
    "import konlpy"
   ]
  },
  {
   "cell_type": "code",
   "execution_count": 2,
   "metadata": {},
   "outputs": [],
   "source": [
    "# Dataset 다운로드 및 불러오기\n",
    "# !wget -O .cache/ratings_train.txt http://skt-lsl-nlp-model.s3.amazonaws.com/KoBERT/datasets/nsmc/ratings_train.txt\n",
    "# !wget -O .cache/ratings_test.txt http://skt-lsl-nlp-model.s3.amazonaws.com/KoBERT/datasets/nsmc/ratings_test.txt\n",
    "\n",
    "dataset_train = nlp.data.TSVDataset(\".cache/ratings_train.txt\", field_indices=[1,2], num_discard_samples=1)\n",
    "dataset_test = nlp.data.TSVDataset(\".cache/ratings_test.txt\", field_indices=[1,2], num_discard_samples=1)"
   ]
  },
  {
   "cell_type": "code",
   "execution_count": 99,
   "metadata": {},
   "outputs": [],
   "source": [
    "# 띄어쓰기\n",
    "# !pip install git+https://github.com/haven-jeon/PyKoSpacing.git"
   ]
  },
  {
   "cell_type": "code",
   "execution_count": 100,
   "metadata": {},
   "outputs": [],
   "source": [
    "from pykospacing import Spacing\n",
    "spacing = Spacing()"
   ]
  },
  {
   "cell_type": "code",
   "execution_count": 116,
   "metadata": {},
   "outputs": [
    {
     "data": {
      "text/plain": [
       "('카리스마작렬~역대퍼니셔시리즈1.2.3中가장좋은액션수작!!', '카리스마 작렬~역대 퍼니셔 시리즈 1.2.3中 가장 좋은 액션 수작!!')"
      ]
     },
     "execution_count": 116,
     "metadata": {},
     "output_type": "execute_result"
    }
   ],
   "source": [
    "idx = 10001\n",
    "dataset_train[idx][0], spacing(dataset_train[idx][0]) "
   ]
  },
  {
   "cell_type": "code",
   "execution_count": null,
   "metadata": {},
   "outputs": [
    {
     "name": "stderr",
     "output_type": "stream",
     "text": [
      " 99%|█████████▉| 148328/150000 [1:15:54<00:48, 34.19it/s]"
     ]
    }
   ],
   "source": [
    "from konlpy.tag import Okt\n",
    "from tqdm import tqdm\n",
    "\n",
    "okt = Okt()\n",
    "nouns_dt = []\n",
    "\n",
    "stop_words = ['뭐', '더' '좀', '것', '진짜', '이', '거', '점', '완전', '왜', '게', '나', '역시', '수', '내', '저', '말', '이건', '좀', '그냥',\n",
    "              '영화', '보고', '걸', '개', '안', '볼', '더', '정도', '정말', '그것', '구먼', '구만', '왜케', '때문', '다시']\n",
    "\n",
    "for dt in tqdm(dataset_train):\n",
    "    parsed_nouns = okt.nouns(spacing(dt[0]))\n",
    "    parsed_nouns = [n for n in parsed_nouns if (n not in stop_words) and (len(n) > 1)]\n",
    "    nouns_dt.append(parsed_nouns)"
   ]
  },
  {
   "cell_type": "code",
   "execution_count": 120,
   "metadata": {},
   "outputs": [
    {
     "data": {
      "text/plain": [
       "[['더빙', '목소리'],\n",
       " ['포스터', '초딩', '오버', '연기'],\n",
       " ['재밓었다', '추천'],\n",
       " ['교도소', '이야기', '재미', '평점', '조정'],\n",
       " ['페그', '연기', '스파이더맨', '커스틴', '던스트'],\n",
       " ['걸음', '초등학교', '학년', '생인', '별반', '개도'],\n",
       " ['원작', '긴장감', '제대로'],\n",
       " ['반개',\n",
       "  '응경',\n",
       "  '길용우',\n",
       "  '생활',\n",
       "  '해도',\n",
       "  '납치',\n",
       "  '감금',\n",
       "  '반복',\n",
       "  '반복',\n",
       "  '드라마',\n",
       "  '가족',\n",
       "  '연기',\n",
       "  '사람'],\n",
       " ['액션', '재미'],\n",
       " ['평점', '헐리우드']]"
      ]
     },
     "execution_count": 120,
     "metadata": {},
     "output_type": "execute_result"
    }
   ],
   "source": [
    "nouns_dt[:10]"
   ]
  },
  {
   "cell_type": "code",
   "execution_count": 121,
   "metadata": {},
   "outputs": [],
   "source": [
    "import gensim\n",
    "id2word = gensim.corpora.Dictionary(nouns_dt)\n",
    "id2word.filter_extremes(no_below = 100) #20회 이하로 등장한 단어는 삭제\n",
    "\n",
    "texts = nouns_dt\n",
    "corpus = [id2word.doc2bow(text) for text in texts]"
   ]
  },
  {
   "cell_type": "code",
   "execution_count": 122,
   "metadata": {},
   "outputs": [],
   "source": [
    "lda = gensim.models.LdaModel(\n",
    "    corpus,\n",
    "    id2word=id2word,\n",
    "    num_topics=3)"
   ]
  },
  {
   "cell_type": "code",
   "execution_count": 123,
   "metadata": {},
   "outputs": [
    {
     "data": {
      "text/plain": [
       "[(0,\n",
       "  '0.050*\"최고\" + 0.035*\"사람\" + 0.034*\"내용\" + 0.030*\"감독\" + 0.027*\"시간\" + 0.024*\"하나\" + 0.023*\"작품\" + 0.018*\"최악\" + 0.016*\"명작\" + 0.015*\"주인공\"'),\n",
       " (1,\n",
       "  '0.063*\"연기\" + 0.045*\"감동\" + 0.038*\"재미\" + 0.038*\"배우\" + 0.031*\"쓰레기\" + 0.021*\"별로\" + 0.015*\"보기\" + 0.013*\"음악\" + 0.012*\"수준\" + 0.012*\"가슴\"'),\n",
       " (2,\n",
       "  '0.042*\"평점\" + 0.036*\"생각\" + 0.035*\"드라마\" + 0.029*\"스토리\" + 0.018*\"마지막\" + 0.017*\"처음\" + 0.017*\"장면\" + 0.015*\"이야기\" + 0.014*\"지금\" + 0.011*\"여자\"')]"
      ]
     },
     "execution_count": 123,
     "metadata": {},
     "output_type": "execute_result"
    }
   ],
   "source": [
    "lda.show_topics()"
   ]
  },
  {
   "cell_type": "code",
   "execution_count": 124,
   "metadata": {},
   "outputs": [
    {
     "data": {
      "text/plain": [
       "(array([[2.3332226 , 0.33334556, 0.33333832],\n",
       "        [0.33334157, 4.333152  , 0.333342  ],\n",
       "        [0.333339  , 1.3333063 , 0.33333522],\n",
       "        ...,\n",
       "        [0.3334063 , 0.3333631 , 1.3330377 ],\n",
       "        [0.3333497 , 0.33336353, 1.3331486 ],\n",
       "        [1.3111647 , 1.3514769 , 1.3369106 ]], dtype=float32),\n",
       " None)"
      ]
     },
     "execution_count": 124,
     "metadata": {},
     "output_type": "execute_result"
    }
   ],
   "source": [
    "lda.inference(corpus)"
   ]
  }
 ],
 "metadata": {
  "kernelspec": {
   "display_name": "Python 3",
   "language": "python",
   "name": "python3"
  },
  "language_info": {
   "codemirror_mode": {
    "name": "ipython",
    "version": 3
   },
   "file_extension": ".py",
   "mimetype": "text/x-python",
   "name": "python",
   "nbconvert_exporter": "python",
   "pygments_lexer": "ipython3",
   "version": "3.8.5"
  }
 },
 "nbformat": 4,
 "nbformat_minor": 4
}
