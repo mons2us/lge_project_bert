{
 "cells": [
  {
   "cell_type": "code",
   "execution_count": 1,
   "metadata": {},
   "outputs": [],
   "source": [
    "import json\n",
    "import urllib\n",
    "from bs4 import BeautifulSoup\n",
    "\n",
    "def spellchecker(q):\n",
    "\n",
    "    params = urllib.parse.urlencode({\n",
    "        \"_callback\": \"\",\n",
    "        \"q\": q\n",
    "    })\n",
    "    \n",
    "    # 네이버 맞춤법 검사기 사용하여 문법 교정 \n",
    "    data = urllib.request.urlopen(\"https://m.search.naver.com/p/csearch/ocontent/spellchecker.nhn?\" + params)\n",
    "    data = data.read().decode(\"utf-8\")[1:-2]\n",
    "    data = json.loads(data)\n",
    "    data = data[\"message\"][\"result\"][\"html\"]\n",
    "    data = BeautifulSoup(data, \"html.parser\").getText()\n",
    "    \n",
    "    return data"
   ]
  },
  {
   "cell_type": "code",
   "execution_count": 8,
   "metadata": {},
   "outputs": [
    {
     "data": {
      "text/plain": [
       "'컴프레서 -> 고장이 발생함'"
      ]
     },
     "execution_count": 8,
     "metadata": {},
     "output_type": "execute_result"
    }
   ],
   "source": [
    "spellchecker('컴프렛서 -> 고장이발생함')"
   ]
  },
  {
   "cell_type": "code",
   "execution_count": null,
   "metadata": {},
   "outputs": [],
   "source": []
  }
 ],
 "metadata": {
  "kernelspec": {
   "display_name": "Python 3",
   "language": "python",
   "name": "python3"
  },
  "language_info": {
   "codemirror_mode": {
    "name": "ipython",
    "version": 3
   },
   "file_extension": ".py",
   "mimetype": "text/x-python",
   "name": "python",
   "nbconvert_exporter": "python",
   "pygments_lexer": "ipython3",
   "version": "3.8.5"
  }
 },
 "nbformat": 4,
 "nbformat_minor": 4
}
